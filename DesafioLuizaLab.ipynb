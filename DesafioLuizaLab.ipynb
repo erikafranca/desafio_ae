{
  "nbformat": 4,
  "nbformat_minor": 0,
  "metadata": {
    "colab": {
      "name": "DesafioLuizaLab.ipynb",
      "provenance": [],
      "authorship_tag": "ABX9TyN75CcVxL6bWE58G2l2IR1l",
      "include_colab_link": true
    },
    "kernelspec": {
      "name": "python3",
      "display_name": "Python 3"
    },
    "language_info": {
      "name": "python"
    }
  },
  "cells": [
    {
      "cell_type": "markdown",
      "metadata": {
        "id": "view-in-github",
        "colab_type": "text"
      },
      "source": [
        "<a href=\"https://colab.research.google.com/github/erikafranca/desafio_ae/blob/main/DesafioLuizaLab.ipynb\" target=\"_parent\"><img src=\"https://colab.research.google.com/assets/colab-badge.svg\" alt=\"Open In Colab\"/></a>"
      ]
    },
    {
      "cell_type": "code",
      "source": [
        "## instalar pyspark\n",
        "!apt-get install openjdk-8-jdk-headless -qq > /dev/null\n",
        "!pip install pyspark\n"
      ],
      "metadata": {
        "colab": {
          "base_uri": "https://localhost:8080/"
        },
        "id": "1tRGaSxFlJ2m",
        "outputId": "7e596462-cbbf-4a21-b305-edb93b4440c3"
      },
      "execution_count": 3,
      "outputs": [
        {
          "output_type": "stream",
          "name": "stdout",
          "text": [
            "Requirement already satisfied: pyspark in /usr/local/lib/python3.7/dist-packages (3.2.1)\n",
            "Requirement already satisfied: py4j==0.10.9.3 in /usr/local/lib/python3.7/dist-packages (from pyspark) (0.10.9.3)\n"
          ]
        }
      ]
    },
    {
      "cell_type": "code",
      "source": [
        "## definindo os paths para cada arquivo de dados\n",
        "\n",
        "categoria = \"/content/luizalab/categoria.csv\"\n",
        "cidade = \"/content/luizalab/cidade.csv\"\n",
        "cliente = \"/content/luizalab/cliente.csv\"\n",
        "estado = \"/content/luizalab/estado.csv\"\n",
        "filial = \"/content/luizalab/filial.csv\"\n",
        "item_pedido = \"/content/luizalab/item_pedido.csv\"\n",
        "parceiro = \"/content/luizalab/parceiro.csv\"\n",
        "pedido = \"/content/luizalab/pedido.csv\"\n",
        "produto = \"/content/luizalab/produto.csv\"\n",
        "subcategoria = \"/content/luizalab/subcategoria.csv\""
      ],
      "metadata": {
        "id": "3cs14OkPo_Fb"
      },
      "execution_count": 5,
      "outputs": []
    },
    {
      "cell_type": "code",
      "source": [
        "# iniciar SESSAO SPARK\n",
        "from pyspark.sql import SparkSession\n",
        "spark = SparkSession.builder.master(\"local[*]\").getOrCreate()"
      ],
      "metadata": {
        "id": "zVhaMCPapniF"
      },
      "execution_count": 6,
      "outputs": []
    },
    {
      "cell_type": "code",
      "source": [
        "## definindo os dataframes a partir dos dados transacionais recebidos\n",
        "\n",
        "df_categoria = spark.read.csv(categoria, header = \"true\", inferSchema=\"true\", sep='|')\n",
        "df_cidade = spark.read.csv(cidade, header = \"true\", inferSchema=\"true\", sep='|')\n",
        "df_cliente = spark.read.csv(cliente, header = \"true\", inferSchema=\"true\", sep='|')\n",
        "df_estado = spark.read.csv(estado, header = \"true\", inferSchema=\"true\", sep='|')\n",
        "df_filial = spark.read.csv(filial, header = \"true\", inferSchema=\"true\", sep='|')\n",
        "df_item_pedido = spark.read.csv(item_pedido, header = \"true\", inferSchema=\"true\", sep='|')\n",
        "df_parceiro = spark.read.csv(parceiro, header = \"true\", inferSchema=\"true\", sep='|')\n",
        "df_pedido = spark.read.csv(pedido, header = \"true\", inferSchema=\"true\", sep='|')\n",
        "df_produto = spark.read.csv(produto, header = \"true\", inferSchema=\"true\", sep='|')\n",
        "df_subcategoria = spark.read.csv(subcategoria, header = \"true\", inferSchema=\"true\", sep='|')"
      ],
      "metadata": {
        "id": "nasLYy7X3kr4"
      },
      "execution_count": 52,
      "outputs": []
    },
    {
      "cell_type": "code",
      "source": [
        "## teste em um dataframe\n",
        "df_categoria.select(df_categoria[\"id_categoria\"]).show()"
      ],
      "metadata": {
        "colab": {
          "base_uri": "https://localhost:8080/"
        },
        "id": "1skv6LkfU_Fu",
        "outputId": "242d749a-9576-4abe-d567-494c85fb16bc"
      },
      "execution_count": 38,
      "outputs": [
        {
          "output_type": "stream",
          "name": "stdout",
          "text": [
            "+------------+\n",
            "|id_categoria|\n",
            "+------------+\n",
            "|           1|\n",
            "|           2|\n",
            "|           3|\n",
            "|           4|\n",
            "|           5|\n",
            "|           6|\n",
            "|           7|\n",
            "|           8|\n",
            "|           9|\n",
            "|          10|\n",
            "|          11|\n",
            "|          12|\n",
            "|          13|\n",
            "|          14|\n",
            "|          15|\n",
            "|          16|\n",
            "|          17|\n",
            "|          18|\n",
            "|          19|\n",
            "|          20|\n",
            "+------------+\n",
            "only showing top 20 rows\n",
            "\n"
          ]
        }
      ]
    },
    {
      "cell_type": "code",
      "source": [
        "## unindo dataframes a partir do relacionamento chave entre eles \n",
        "\n",
        "df_lake = df_pedido.join(df_item_pedido, df_pedido['id_pedido'] == df_item_pedido['id_pedido'], 'left') \\\n",
        "        .join(df_cliente, df_pedido['id_cliente'] == df_cliente['id_cliente'], 'left') \\\n",
        "        .join(df_parceiro, df_pedido['id_parceiro'] == df_parceiro['id_parceiro'], 'left') \\\n",
        "        .join(df_filial, df_pedido['id_filial'] == df_filial['id_filial'], 'left') \\\n",
        "        .join(df_cidade, df_filial['id_cidade'] == df_cidade['id_cidade'], 'left') \\\n",
        "        .join(df_estado, df_cidade['id_estado'] == df_estado['id_estado'], 'left') \\\n",
        "        .join(df_produto, df_item_pedido['id_produto'] == df_produto['id_produto'], 'left')\\\n",
        "        .join(df_subcategoria, df_produto['id_subcategoria'] == df_subcategoria['id_subcategoria'], 'left') \\\n",
        "        .join(df_categoria, df_subcategoria['id_categoria'] == df_categoria['id_categoria'], 'left') \\\n",
        "        \n",
        "        \n",
        "        \n",
        "        "
      ],
      "metadata": {
        "id": "e-1bvbJfVtzu"
      },
      "execution_count": 64,
      "outputs": []
    },
    {
      "cell_type": "code",
      "source": [
        "## verificando dados do datalake \n",
        "\n",
        "df_lake.show()\n",
        "\n",
        "# verificando schema \n",
        "\n",
        "df_lake.printSchema()"
      ],
      "metadata": {
        "colab": {
          "base_uri": "https://localhost:8080/"
        },
        "id": "7Do4wd47Xdl6",
        "outputId": "f95b9d81-8ded-4cb8-82fe-49ac9b51f536"
      },
      "execution_count": 96,
      "outputs": [
        {
          "output_type": "stream",
          "name": "stdout",
          "text": [
            "+-----------+-------------------+-----------+----------+---------+-------------+-----------+----------+----------+-----------+----------+--------------------+---------+-----------+--------------------+---------+---------------+---------+---------+---------------+---------+---------+---------+----------+--------------------+---------------+---------------+--------------------+------------+------------+---------------+-------------+\n",
            "|  id_pedido|          dt_pedido|id_parceiro|id_cliente|id_filial|vr_total_pago|  id_pedido|id_produto|quantidade|vr_unitario|id_cliente|          nm_cliente|flag_ouro|id_parceiro|         nm_parceiro|id_filial|      ds_filial|id_cidade|id_cidade|      ds_cidade|id_estado|id_estado|ds_estado|id_produto|          ds_produto|id_subcategoria|id_subcategoria|     ds_subcategoria|id_categoria|id_categoria|   ds_categoria|perc_parceiro|\n",
            "+-----------+-------------------+-----------+----------+---------+-------------+-----------+----------+----------+-----------+----------+--------------------+---------+-----------+--------------------+---------+---------------+---------+---------+---------------+---------+---------+---------+----------+--------------------+---------------+---------------+--------------------+------------+------------+---------------+-------------+\n",
            "|47372977716|2021-06-18 00:00:00|         16|   3700245|      257|       194.99|47372977716|    512415|         1|     194.99|   3700245|Cliente Magalu - ...|        1|         16|Parceiro Magalu - 16|      257|Filial - 000257|        3|        3|ABADIA DE GOIAS|       11|       11|       GO|    512415|Produto - 0000512415|           1111|           1111|Sub-categoria - 0...|          27|          27|Categoria - 027|          2.0|\n",
            "| 4962532626|2021-08-05 00:00:00|          6|   8571960|      497|       175.37| 4962532626|   3375133|         1|     175.37|   8571960|Cliente Magalu - ...|        0|          6|Parceiro Magalu - 06|      497|Filial - 000497|      208|      208|       ALVORADA|       28|       28|       RS|   3375133|Produto - 0003375133|           3155|           3155|Sub-categoria - 0...|          33|          33|Categoria - 033|          3.0|\n",
            "| 4976142355|2021-08-09 00:00:00|          5|  16423425|      497|        19.37| 4976142355|   3989206|         1|      19.37|  16423425|Cliente Magalu - ...|        0|          5|Parceiro Magalu - 05|      497|Filial - 000497|      208|      208|       ALVORADA|       28|       28|       RS|   3989206|Produto - 0003989206|           3277|           3277|Sub-categoria - 0...|           4|           4|Categoria - 004|          2.0|\n",
            "|47738424713|2021-06-26 00:00:00|         13|  19586895|      257|       831.98|47738424713|   5033171|         1|     415.99|  19586895|Cliente Magalu - ...|        1|         13|Parceiro Magalu - 13|      257|Filial - 000257|        3|        3|ABADIA DE GOIAS|       11|       11|       GO|   5033171|Produto - 0005033171|           3551|           3551|Sub-categoria - 0...|          18|          18|Categoria - 018|          1.0|\n",
            "|47738424713|2021-06-26 00:00:00|         13|  19586895|      257|       831.98|47738424713|   4038159|         1|     415.99|  19586895|Cliente Magalu - ...|        1|         13|Parceiro Magalu - 13|      257|Filial - 000257|        3|        3|ABADIA DE GOIAS|       11|       11|       GO|   4038159|Produto - 0004038159|           3551|           3551|Sub-categoria - 0...|          18|          18|Categoria - 018|          1.0|\n",
            "|46979634216|2021-06-09 00:00:00|         16|  30003222|      257|       298.99|46979634216|   1400961|         1|     298.99|  30003222|Cliente Magalu - ...|        0|         16|Parceiro Magalu - 16|      257|Filial - 000257|        3|        3|ABADIA DE GOIAS|       11|       11|       GO|   1400961|Produto - 0001400961|            685|            685|Sub-categoria - 0...|          27|          27|Categoria - 027|          2.0|\n",
            "|50918663713|2021-09-03 00:00:00|         13|  38214560|      257|       493.98|50918663713|   2601132|         1|     246.99|  38214560|Cliente Magalu - ...|        0|         13|Parceiro Magalu - 13|      257|Filial - 000257|        3|        3|ABADIA DE GOIAS|       11|       11|       GO|   2601132|Produto - 0002601132|           1052|           1052|Sub-categoria - 0...|          27|          27|Categoria - 027|          2.0|\n",
            "|50321262013|2021-08-20 00:00:00|         13|  42939402|      257|       298.99|50321262013|   1348040|         1|     298.99|  42939402|Cliente Magalu - ...|        1|         13|Parceiro Magalu - 13|      257|Filial - 000257|        3|        3|ABADIA DE GOIAS|       11|       11|       GO|   1348040|Produto - 0001348040|           1890|           1890|Sub-categoria - 0...|          18|          18|Categoria - 018|          1.0|\n",
            "|49524083516|2021-08-03 00:00:00|         16|  43670652|      166|       249.59|49524083516|   1060920|         1|     249.59|  43670652|Cliente Magalu - ...|        1|         16|Parceiro Magalu - 16|      166|Filial - 000166|      599|      599|           BAGE|       28|       28|       RS|   1060920|Produto - 0001060920|            757|            757|Sub-categoria - 0...|          27|          27|Categoria - 027|          2.0|\n",
            "| 5041140326|2021-08-22 00:00:00|          6|  45289257|      497|       233.87| 5041140326|   3291205|         1|     233.87|  45289257|Cliente Magalu - ...|        0|          6|Parceiro Magalu - 06|      497|Filial - 000497|      208|      208|       ALVORADA|       28|       28|       RS|   3291205|Produto - 0003291205|           3155|           3155|Sub-categoria - 0...|          33|          33|Categoria - 033|          3.0|\n",
            "|49130099513|2021-07-26 00:00:00|         13|  47130570|      166|        64.87|49130099513|   2308320|         1|      64.87|  47130570|Cliente Magalu - ...|        0|         13|Parceiro Magalu - 13|      166|Filial - 000166|      599|      599|           BAGE|       28|       28|       RS|   2308320|Produto - 0002308320|           1111|           1111|Sub-categoria - 0...|          27|          27|Categoria - 027|          2.0|\n",
            "|47782788213|2021-06-28 00:00:00|         13|  64633727|      497|        71.49|47782788213|   4046785|         1|      71.49|  64633727|Cliente Magalu - ...|        0|         13|Parceiro Magalu - 13|      497|Filial - 000497|      208|      208|       ALVORADA|       28|       28|       RS|   4046785|Produto - 0004046785|           2992|           2992|Sub-categoria - 0...|          18|          18|Categoria - 018|          1.0|\n",
            "| 4712004206|2021-06-12 00:00:00|          6| 130610770|      497|       168.87| 4712004206|   1323619|         1|     168.87| 130610770|Cliente Magalu - ...|        0|          6|Parceiro Magalu - 06|      497|Filial - 000497|      208|      208|       ALVORADA|       28|       28|       RS|   1323619|Produto - 0001323619|           3155|           3155|Sub-categoria - 0...|          33|          33|Categoria - 033|          3.0|\n",
            "| 4818136776|2021-07-06 00:00:00|          6| 141467882|      497|      2963.48| 4818136776|   2890216|         2|    1481.74| 141467882|Cliente Magalu - ...|        0|          6|Parceiro Magalu - 06|      497|Filial - 000497|      208|      208|       ALVORADA|       28|       28|       RS|   2890216|Produto - 0002890216|           3155|           3155|Sub-categoria - 0...|          33|          33|Categoria - 033|          3.0|\n",
            "|50754944013|2021-08-30 00:00:00|         13| 145349720|      257|       142.87|50754944013|   3014626|         1|     142.87| 145349720|Cliente Magalu - ...|        0|         13|Parceiro Magalu - 13|      257|Filial - 000257|        3|        3|ABADIA DE GOIAS|       11|       11|       GO|   3014626|Produto - 0003014626|           1167|           1167|Sub-categoria - 0...|          18|          18|Categoria - 018|          1.0|\n",
            "|48191042013|2021-07-06 00:00:00|         13|   1369337|      257|        84.49|48191042013|   4733648|         1|      84.49|   1369337|Cliente Magalu - ...|        0|         13|Parceiro Magalu - 13|      257|Filial - 000257|        3|        3|ABADIA DE GOIAS|       11|       11|       GO|   4733648|Produto - 0004733648|           3551|           3551|Sub-categoria - 0...|          18|          18|Categoria - 018|          1.0|\n",
            "| 4806314156|2021-07-04 00:00:00|          6|   5540992|      497|       194.87| 4806314156|   3375133|         1|     194.87|   5540992|Cliente Magalu - ...|        0|          6|Parceiro Magalu - 06|      497|Filial - 000497|      208|      208|       ALVORADA|       28|       28|       RS|   3375133|Produto - 0003375133|           3155|           3155|Sub-categoria - 0...|          33|          33|Categoria - 033|          3.0|\n",
            "|48133497716|2021-07-05 00:00:00|         16|   9923540|      497|       103.99|48133497716|   4801364|         1|     103.99|   9923540|Cliente Magalu - ...|        0|         16|Parceiro Magalu - 16|      497|Filial - 000497|      208|      208|       ALVORADA|       28|       28|       RS|   4801364|Produto - 0004801364|           1588|           1588|Sub-categoria - 0...|          27|          27|Categoria - 027|          2.0|\n",
            "| 4794406056|2021-07-01 00:00:00|          6|  12261532|      257|       314.47| 4794406056|   2712076|         1|     314.47|  12261532|Cliente Magalu - ...|        1|          6|Parceiro Magalu - 06|      257|Filial - 000257|        3|        3|ABADIA DE GOIAS|       11|       11|       GO|   2712076|Produto - 0002712076|            359|            359|Sub-categoria - 0...|           3|           3|Categoria - 003|          2.0|\n",
            "| 4962599656|2021-08-05 00:00:00|          6|  15670912|      497|       175.37| 4962599656|   3375133|         1|     175.37|  15670912|Cliente Magalu - ...|        0|          6|Parceiro Magalu - 06|      497|Filial - 000497|      208|      208|       ALVORADA|       28|       28|       RS|   3375133|Produto - 0003375133|           3155|           3155|Sub-categoria - 0...|          33|          33|Categoria - 033|          3.0|\n",
            "+-----------+-------------------+-----------+----------+---------+-------------+-----------+----------+----------+-----------+----------+--------------------+---------+-----------+--------------------+---------+---------------+---------+---------+---------------+---------+---------+---------+----------+--------------------+---------------+---------------+--------------------+------------+------------+---------------+-------------+\n",
            "only showing top 20 rows\n",
            "\n",
            "root\n",
            " |-- id_pedido: long (nullable = true)\n",
            " |-- dt_pedido: timestamp (nullable = true)\n",
            " |-- id_parceiro: integer (nullable = true)\n",
            " |-- id_cliente: integer (nullable = true)\n",
            " |-- id_filial: integer (nullable = true)\n",
            " |-- vr_total_pago: double (nullable = true)\n",
            " |-- id_pedido: long (nullable = true)\n",
            " |-- id_produto: integer (nullable = true)\n",
            " |-- quantidade: integer (nullable = true)\n",
            " |-- vr_unitario: double (nullable = true)\n",
            " |-- id_cliente: integer (nullable = true)\n",
            " |-- nm_cliente: string (nullable = true)\n",
            " |-- flag_ouro: integer (nullable = true)\n",
            " |-- id_parceiro: integer (nullable = true)\n",
            " |-- nm_parceiro: string (nullable = true)\n",
            " |-- id_filial: integer (nullable = true)\n",
            " |-- ds_filial: string (nullable = true)\n",
            " |-- id_cidade: integer (nullable = true)\n",
            " |-- id_cidade: integer (nullable = true)\n",
            " |-- ds_cidade: string (nullable = true)\n",
            " |-- id_estado: integer (nullable = true)\n",
            " |-- id_estado: integer (nullable = true)\n",
            " |-- ds_estado: string (nullable = true)\n",
            " |-- id_produto: integer (nullable = true)\n",
            " |-- ds_produto: string (nullable = true)\n",
            " |-- id_subcategoria: integer (nullable = true)\n",
            " |-- id_subcategoria: integer (nullable = true)\n",
            " |-- ds_subcategoria: string (nullable = true)\n",
            " |-- id_categoria: integer (nullable = true)\n",
            " |-- id_categoria: integer (nullable = true)\n",
            " |-- ds_categoria: string (nullable = true)\n",
            " |-- perc_parceiro: double (nullable = true)\n",
            "\n"
          ]
        }
      ]
    },
    {
      "cell_type": "code",
      "source": [
        "#remoção de colunas repetidas com função python\n",
        "\n",
        "def dropDupDfCols(df):\n",
        "    newcols = []\n",
        "    dupcols = []\n",
        "\n",
        "    for i in range(len(df.columns)):\n",
        "        if df.columns[i] not in newcols:\n",
        "            newcols.append(df.columns[i])\n",
        "        else:\n",
        "            dupcols.append(i)\n",
        "\n",
        "    df = df.toDF(*[str(i) for i in range(len(df.columns))])\n",
        "    for dupcol in dupcols:\n",
        "        df = df.drop(str(dupcol))\n",
        "\n",
        "    return df.toDF(*newcols)\n",
        "\n",
        "df_pronto = dropDupDfCols(df_lake)"
      ],
      "metadata": {
        "id": "0n35zp3deQfr"
      },
      "execution_count": 78,
      "outputs": []
    },
    {
      "cell_type": "code",
      "source": [
        "## salvar os dados multidimensionais para que as áreas interessadas tenham acesso aos dados analíticos\n",
        "\n",
        "df_pronto.repartition(1).write.csv(\"/content/luizalab/vendas\", sep=',',header='true')\n",
        "\n",
        "\n"
      ],
      "metadata": {
        "id": "OFXGQtejf2rT"
      },
      "execution_count": 85,
      "outputs": []
    },
    {
      "cell_type": "code",
      "source": [
        "## renomear arquivo para que fique compreensível\n",
        "\n",
        "import os \n",
        "path = '/content/luizalab/vendas'\n",
        "\n",
        "for file in os.listdir(path):\n",
        "    if file.endswith('.csv'):\n",
        "       file= (os.path.join(path, file))\n",
        "       os.rename(file, path + '/vendas.csv')\n",
        "\n"
      ],
      "metadata": {
        "id": "TUelQUMIi8ql"
      },
      "execution_count": 95,
      "outputs": []
    },
    {
      "cell_type": "code",
      "source": [
        "## utilizando a spark sql \n",
        "\n",
        "df_pronto.registerTempTable(\"tbl_vendas\")\n",
        "\n",
        "## calculo de valor de comissão por produto e agrupando valores totais por parceiro, mes e ano\n",
        "\n",
        "df_com_0= spark.sql(\"\"\"\n",
        "SELECT\n",
        "id_parceiro,\n",
        "nm_parceiro,\n",
        "ROUND(SUM(vr_total_pago),2) as vr_total_pago,\n",
        "ROUND(SUM((vr_total_pago * perc_parceiro)/100),2) as vr_comissao,\n",
        "month(dt_pedido) as mes,\n",
        "year(dt_pedido) as ano\n",
        "FROM tbl_vendas\n",
        "GROUP BY \n",
        "id_parceiro,\n",
        "nm_parceiro,\n",
        "month(dt_pedido),\n",
        "year(dt_pedido)\n",
        "\"\"\")\n",
        "\n",
        "## mostrando agrupamento\n",
        "\n",
        "df_com_0.show()\n"
      ],
      "metadata": {
        "colab": {
          "base_uri": "https://localhost:8080/"
        },
        "id": "CvbB4-CvmTan",
        "outputId": "40dd4c3a-97c0-4312-bbc5-ef4e5193de54"
      },
      "execution_count": 122,
      "outputs": [
        {
          "output_type": "stream",
          "name": "stderr",
          "text": [
            "/usr/local/lib/python3.7/dist-packages/pyspark/sql/dataframe.py:140: FutureWarning: Deprecated in 2.0, use createOrReplaceTempView instead.\n",
            "  FutureWarning\n"
          ]
        },
        {
          "output_type": "stream",
          "name": "stdout",
          "text": [
            "+-----------+--------------------+-------------+-----------+---+----+\n",
            "|id_parceiro|         nm_parceiro|vr_total_pago|vr_comissao|mes| ano|\n",
            "+-----------+--------------------+-------------+-----------+---+----+\n",
            "|         11|Parceiro Magalu - 11|     15135.12|     461.67|  8|2021|\n",
            "|          6|Parceiro Magalu - 06|   8451003.97|  377452.09|  7|2021|\n",
            "|         11|Parceiro Magalu - 11|     25832.17|     584.21|  6|2021|\n",
            "|          5|Parceiro Magalu - 05|    931522.23|    22733.8|  9|2021|\n",
            "|         10|Parceiro Magalu - 10|     306363.4|    7335.57|  6|2021|\n",
            "|         16|Parceiro Magalu - 16|   6182042.29|   125916.4|  9|2021|\n",
            "|          4|Parceiro Magalu - 04|        871.0|      17.42|  6|2021|\n",
            "|         10|Parceiro Magalu - 10|    357296.67|    8345.91|  7|2021|\n",
            "|          4|Parceiro Magalu - 04|       1092.0|      26.94|  9|2021|\n",
            "|          5|Parceiro Magalu - 05|   1665491.01|   38720.53|  7|2021|\n",
            "|         13|Parceiro Magalu - 13|2.494106252E7|  310002.21|  7|2021|\n",
            "|         16|Parceiro Magalu - 16|1.273565006E7|  259266.81|  8|2021|\n",
            "|          6|Parceiro Magalu - 06|   5170049.65|  235723.73|  9|2021|\n",
            "|          8|Parceiro Magalu - 08|       116.22|       3.49|  9|2021|\n",
            "|         13|Parceiro Magalu - 13|2.234447105E7|  269792.88|  8|2021|\n",
            "|          4|Parceiro Magalu - 04|       1843.4|      38.23|  7|2021|\n",
            "|         13|Parceiro Magalu - 13|2.041103436E7|  253967.74|  6|2021|\n",
            "|          8|Parceiro Magalu - 08|      1106.82|       29.3|  7|2021|\n",
            "|         13|Parceiro Magalu - 13|1.058575043E7|  129360.67|  9|2021|\n",
            "|         11|Parceiro Magalu - 11|      14471.6|     347.58|  9|2021|\n",
            "+-----------+--------------------+-------------+-----------+---+----+\n",
            "only showing top 20 rows\n",
            "\n"
          ]
        }
      ]
    },
    {
      "cell_type": "code",
      "source": [
        "## calculo de bonus\n",
        "\n",
        "df_com_0.registerTempTable(\"tbl_com_0\")\n",
        "\n",
        "df_com_1 = spark.sql(\"\"\" \n",
        "SELECT \n",
        "id_parceiro,\n",
        "nm_parceiro,\n",
        "vr_total_pago,\n",
        "CASE WHEN vr_total_pago/10000 > 0 then CAST((vr_total_pago/10000) as int)*100 else 0 end as bonus,\n",
        "vr_comissao,\n",
        "mes,\n",
        "ano\n",
        "FROM tbl_com_0 \n",
        "\"\"\")\n",
        "df_com_1.show()"
      ],
      "metadata": {
        "colab": {
          "base_uri": "https://localhost:8080/"
        },
        "id": "-BPelpAYtjS1",
        "outputId": "1fa18478-ab76-4075-a7c4-4fdb870d02bb"
      },
      "execution_count": 129,
      "outputs": [
        {
          "output_type": "stream",
          "name": "stderr",
          "text": [
            "/usr/local/lib/python3.7/dist-packages/pyspark/sql/dataframe.py:140: FutureWarning: Deprecated in 2.0, use createOrReplaceTempView instead.\n",
            "  FutureWarning\n"
          ]
        },
        {
          "output_type": "stream",
          "name": "stdout",
          "text": [
            "+-----------+--------------------+-------------+------+-----------+---+----+\n",
            "|id_parceiro|         nm_parceiro|vr_total_pago| bonus|vr_comissao|mes| ano|\n",
            "+-----------+--------------------+-------------+------+-----------+---+----+\n",
            "|         11|Parceiro Magalu - 11|     15135.12|   100|     461.67|  8|2021|\n",
            "|          6|Parceiro Magalu - 06|   8451003.97| 84500|  377452.09|  7|2021|\n",
            "|         11|Parceiro Magalu - 11|     25832.17|   200|     584.21|  6|2021|\n",
            "|          5|Parceiro Magalu - 05|    931522.23|  9300|    22733.8|  9|2021|\n",
            "|         10|Parceiro Magalu - 10|     306363.4|  3000|    7335.57|  6|2021|\n",
            "|         16|Parceiro Magalu - 16|   6182042.29| 61800|   125916.4|  9|2021|\n",
            "|          4|Parceiro Magalu - 04|        871.0|     0|      17.42|  6|2021|\n",
            "|         10|Parceiro Magalu - 10|    357296.67|  3500|    8345.91|  7|2021|\n",
            "|          4|Parceiro Magalu - 04|       1092.0|     0|      26.94|  9|2021|\n",
            "|          5|Parceiro Magalu - 05|   1665491.01| 16600|   38720.53|  7|2021|\n",
            "|         13|Parceiro Magalu - 13|2.494106252E7|249400|  310002.21|  7|2021|\n",
            "|         16|Parceiro Magalu - 16|1.273565006E7|127300|  259266.81|  8|2021|\n",
            "|          6|Parceiro Magalu - 06|   5170049.65| 51700|  235723.73|  9|2021|\n",
            "|          8|Parceiro Magalu - 08|       116.22|     0|       3.49|  9|2021|\n",
            "|         13|Parceiro Magalu - 13|2.234447105E7|223400|  269792.88|  8|2021|\n",
            "|          4|Parceiro Magalu - 04|       1843.4|     0|      38.23|  7|2021|\n",
            "|         13|Parceiro Magalu - 13|2.041103436E7|204100|  253967.74|  6|2021|\n",
            "|          8|Parceiro Magalu - 08|      1106.82|     0|       29.3|  7|2021|\n",
            "|         13|Parceiro Magalu - 13|1.058575043E7|105800|  129360.67|  9|2021|\n",
            "|         11|Parceiro Magalu - 11|      14471.6|   100|     347.58|  9|2021|\n",
            "+-----------+--------------------+-------------+------+-----------+---+----+\n",
            "only showing top 20 rows\n",
            "\n"
          ]
        }
      ]
    },
    {
      "cell_type": "code",
      "source": [
        "## calculo final de comissao, considerando o valor de bonus \n",
        "df_com_1.registerTempTable(\"tbl_com_1\")\n",
        "\n",
        "\n",
        "df_com_2 = spark.sql(\"\"\" \n",
        "SELECT \n",
        "id_parceiro,\n",
        "nm_parceiro,\n",
        "vr_total_pago,\n",
        "CASE WHEN bonus <= 100 then 0 else round((vr_comissao - bonus),2) end as vr_comissao_final,\n",
        "mes,\n",
        "ano\n",
        "from \n",
        "tbl_com_1\n",
        "ORDER BY \n",
        "id_parceiro, mes, ano DESC\n",
        "\"\"\")\n",
        "## mostrando valores finais, agrupados por mês e ano\n",
        "\n",
        "df_com_2.show()\n"
      ],
      "metadata": {
        "colab": {
          "base_uri": "https://localhost:8080/"
        },
        "id": "KFPIMDjw0fSR",
        "outputId": "72d2aaa7-3020-4c24-e60c-d6076b0c2fbf"
      },
      "execution_count": 141,
      "outputs": [
        {
          "output_type": "stream",
          "name": "stderr",
          "text": [
            "/usr/local/lib/python3.7/dist-packages/pyspark/sql/dataframe.py:140: FutureWarning: Deprecated in 2.0, use createOrReplaceTempView instead.\n",
            "  FutureWarning\n"
          ]
        },
        {
          "output_type": "stream",
          "name": "stdout",
          "text": [
            "+-----------+--------------------+-------------+-----------------+---+----+\n",
            "|id_parceiro|         nm_parceiro|vr_total_pago|vr_comissao_final|mes| ano|\n",
            "+-----------+--------------------+-------------+-----------------+---+----+\n",
            "|          1|Parceiro Magalu - 01|     90047.64|          2034.33|  6|2021|\n",
            "|          1|Parceiro Magalu - 01|     61109.64|          1365.88|  7|2021|\n",
            "|          1|Parceiro Magalu - 01|     10568.14|              0.0|  8|2021|\n",
            "|          1|Parceiro Magalu - 01|     64093.16|          1407.16|  9|2021|\n",
            "|          2|Parceiro Magalu - 02|      3280.23|              0.0|  9|2021|\n",
            "|          3|Parceiro Magalu - 03|    527613.19|         11366.06|  6|2021|\n",
            "|          3|Parceiro Magalu - 03|    483907.58|          10130.7|  7|2021|\n",
            "|          3|Parceiro Magalu - 03|    339750.34|          4738.73|  8|2021|\n",
            "|          3|Parceiro Magalu - 03|    377602.01|          5001.44|  9|2021|\n",
            "|          4|Parceiro Magalu - 04|        871.0|              0.0|  6|2021|\n",
            "|          4|Parceiro Magalu - 04|       1843.4|              0.0|  7|2021|\n",
            "|          4|Parceiro Magalu - 04|      3029.65|              0.0|  8|2021|\n",
            "|          4|Parceiro Magalu - 04|       1092.0|              0.0|  9|2021|\n",
            "|          5|Parceiro Magalu - 05|   1007083.67|          14533.2|  6|2021|\n",
            "|          5|Parceiro Magalu - 05|   1665491.01|         22120.53|  7|2021|\n",
            "|          5|Parceiro Magalu - 05|   1714631.45|         24628.78|  8|2021|\n",
            "|          5|Parceiro Magalu - 05|    931522.23|          13433.8|  9|2021|\n",
            "|          6|Parceiro Magalu - 06|   7239988.58|        239082.38|  6|2021|\n",
            "|          6|Parceiro Magalu - 06|   8451003.97|        292952.09|  7|2021|\n",
            "|          6|Parceiro Magalu - 06|1.004848444E7|        360542.12|  8|2021|\n",
            "+-----------+--------------------+-------------+-----------------+---+----+\n",
            "only showing top 20 rows\n",
            "\n"
          ]
        }
      ]
    },
    {
      "cell_type": "code",
      "source": [
        "# salvar relatorio de comissao para as áreas interessadas\n",
        "\n",
        "df_com_2.repartition(1).write.csv(\"/content/luizalab/comissao\", sep=',',header='true')\n",
        "\n",
        "## renomear arquivo para que fique compreensível\n",
        "\n",
        "import os \n",
        "path = '/content/luizalab/comissao'\n",
        "\n",
        "for file in os.listdir(path):\n",
        "    if file.endswith('.csv'):\n",
        "       file= (os.path.join(path, file))\n",
        "       os.rename(file, path + '/comissoes.csv')\n"
      ],
      "metadata": {
        "id": "DX4XIjsj3yDO"
      },
      "execution_count": 142,
      "outputs": []
    },
    {
      "cell_type": "markdown",
      "source": [
        "# Propostas de métricas interessantes para análise de comissionamento e performance:\n",
        "\n",
        "1 - Agrupamento do valor total de vendas do parceiro por cidade para analisar se há grande disparidade de valor entre as localidades e talvez propor uma regra e/ou valor de comissionamento diferente nestes locais\n",
        "\n",
        "\n",
        "2 - Ranking de parceiros que vendem (em valor) mais por mês\n",
        "\n",
        "\n",
        "3 - Ranking de parceiros que vendem mais produtos por mês\n",
        "\n",
        "\n",
        "\n",
        "\n"
      ],
      "metadata": {
        "id": "uYBcd_sO3wS-"
      }
    },
    {
      "cell_type": "markdown",
      "source": [
        ""
      ],
      "metadata": {
        "id": "oQipAveA2w27"
      }
    }
  ]
}